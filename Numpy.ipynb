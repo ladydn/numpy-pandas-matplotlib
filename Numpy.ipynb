{
  "nbformat": 4,
  "nbformat_minor": 0,
  "metadata": {
    "colab": {
      "provenance": []
    },
    "kernelspec": {
      "name": "python3",
      "display_name": "Python 3"
    },
    "language_info": {
      "name": "python"
    }
  },
  "cells": [
    {
      "cell_type": "code",
      "execution_count": 1,
      "metadata": {
        "colab": {
          "base_uri": "https://localhost:8080/"
        },
        "id": "tJmWA7urw6KY",
        "outputId": "9c07e190-c5a8-4f66-f402-58e248afc062"
      },
      "outputs": [
        {
          "output_type": "stream",
          "name": "stdout",
          "text": [
            "Requirement already satisfied: numpy in /usr/local/lib/python3.11/dist-packages (1.26.4)\n",
            "Requirement already satisfied: pandas in /usr/local/lib/python3.11/dist-packages (2.2.2)\n",
            "Requirement already satisfied: matplotlib in /usr/local/lib/python3.11/dist-packages (3.10.0)\n",
            "Requirement already satisfied: python-dateutil>=2.8.2 in /usr/local/lib/python3.11/dist-packages (from pandas) (2.8.2)\n",
            "Requirement already satisfied: pytz>=2020.1 in /usr/local/lib/python3.11/dist-packages (from pandas) (2025.1)\n",
            "Requirement already satisfied: tzdata>=2022.7 in /usr/local/lib/python3.11/dist-packages (from pandas) (2025.1)\n",
            "Requirement already satisfied: contourpy>=1.0.1 in /usr/local/lib/python3.11/dist-packages (from matplotlib) (1.3.1)\n",
            "Requirement already satisfied: cycler>=0.10 in /usr/local/lib/python3.11/dist-packages (from matplotlib) (0.12.1)\n",
            "Requirement already satisfied: fonttools>=4.22.0 in /usr/local/lib/python3.11/dist-packages (from matplotlib) (4.56.0)\n",
            "Requirement already satisfied: kiwisolver>=1.3.1 in /usr/local/lib/python3.11/dist-packages (from matplotlib) (1.4.8)\n",
            "Requirement already satisfied: packaging>=20.0 in /usr/local/lib/python3.11/dist-packages (from matplotlib) (24.2)\n",
            "Requirement already satisfied: pillow>=8 in /usr/local/lib/python3.11/dist-packages (from matplotlib) (11.1.0)\n",
            "Requirement already satisfied: pyparsing>=2.3.1 in /usr/local/lib/python3.11/dist-packages (from matplotlib) (3.2.1)\n",
            "Requirement already satisfied: six>=1.5 in /usr/local/lib/python3.11/dist-packages (from python-dateutil>=2.8.2->pandas) (1.17.0)\n"
          ]
        }
      ],
      "source": [
        "!pip install numpy pandas matplotlib"
      ]
    },
    {
      "cell_type": "code",
      "source": [
        "import pandas as pd\n",
        "import numpy as np\n",
        "import matplotlib.pyplot as plt"
      ],
      "metadata": {
        "id": "_AqBKz-v1PmQ"
      },
      "execution_count": 2,
      "outputs": []
    },
    {
      "cell_type": "code",
      "source": [
        "#escalar: temperatura\n",
        "#dimension 0\n",
        "escalar = np.array(42)\n",
        "print(type(escalar))\n",
        "print(escalar)"
      ],
      "metadata": {
        "colab": {
          "base_uri": "https://localhost:8080/"
        },
        "id": "Ywktqmhs1xCw",
        "outputId": "1f1363a0-46d8-470c-baa9-e569b34eed2a"
      },
      "execution_count": 3,
      "outputs": [
        {
          "output_type": "stream",
          "name": "stdout",
          "text": [
            "<class 'numpy.ndarray'>\n",
            "42\n"
          ]
        }
      ]
    },
    {
      "cell_type": "code",
      "source": [
        "#vector: lista\n",
        "#dimension: 1\n",
        "vector = np.array([30,12,15,56,48,59,16,46])\n",
        "print(vector)"
      ],
      "metadata": {
        "colab": {
          "base_uri": "https://localhost:8080/"
        },
        "id": "3HxNsgfu2cn9",
        "outputId": "863f8f82-2d01-403f-fcd0-d4b01818d23f"
      },
      "execution_count": 4,
      "outputs": [
        {
          "output_type": "stream",
          "name": "stdout",
          "text": [
            "[30 12 15 56 48 59 16 46]\n"
          ]
        }
      ]
    },
    {
      "cell_type": "code",
      "source": [
        "#matriz: permite el procesamiento de imagenes...\n",
        "#dimension: 2\n",
        "matriz = np.array([[1,2,3],[4,5,6],[7,8,9]])\n",
        "print(matriz)"
      ],
      "metadata": {
        "colab": {
          "base_uri": "https://localhost:8080/"
        },
        "id": "RaMaxNtg3DoA",
        "outputId": "cd92c14b-bb2b-4676-c8f5-b0854e8dcbea"
      },
      "execution_count": 5,
      "outputs": [
        {
          "output_type": "stream",
          "name": "stdout",
          "text": [
            "[[1 2 3]\n",
            " [4 5 6]\n",
            " [7 8 9]]\n"
          ]
        }
      ]
    },
    {
      "cell_type": "code",
      "source": [
        "#tensor: pemite el procesameinto de varias imagenes ...\n",
        "#dimension: 3 a mas\n",
        "tensor = np.array([[1,2],[3,2],[7,8]])\n",
        "print(tensor)"
      ],
      "metadata": {
        "colab": {
          "base_uri": "https://localhost:8080/"
        },
        "id": "A1dXran7492t",
        "outputId": "78739ec8-6d49-4464-fa8d-d31443c61426"
      },
      "execution_count": 6,
      "outputs": [
        {
          "output_type": "stream",
          "name": "stdout",
          "text": [
            "[[1 2]\n",
            " [3 2]\n",
            " [7 8]]\n"
          ]
        }
      ]
    },
    {
      "cell_type": "code",
      "source": [
        "#creacion de matrices de forma secuencial\n",
        "array_arange = np.arange(10)\n",
        "print(array_arange)"
      ],
      "metadata": {
        "colab": {
          "base_uri": "https://localhost:8080/"
        },
        "id": "bpgXFweE64jq",
        "outputId": "d7833512-95ba-483e-b16c-978135b177fe"
      },
      "execution_count": 7,
      "outputs": [
        {
          "output_type": "stream",
          "name": "stdout",
          "text": [
            "[0 1 2 3 4 5 6 7 8 9]\n"
          ]
        }
      ]
    },
    {
      "cell_type": "code",
      "source": [
        "#matriz identidad\n",
        "eye_matrix = np.eye(6)\n",
        "print(eye_matrix)"
      ],
      "metadata": {
        "colab": {
          "base_uri": "https://localhost:8080/"
        },
        "id": "5jVFGa04686s",
        "outputId": "c1094ac7-ff7d-4d8e-f5e6-16033dc97548"
      },
      "execution_count": 9,
      "outputs": [
        {
          "output_type": "stream",
          "name": "stdout",
          "text": [
            "[[1. 0. 0. 0. 0. 0.]\n",
            " [0. 1. 0. 0. 0. 0.]\n",
            " [0. 0. 1. 0. 0. 0.]\n",
            " [0. 0. 0. 1. 0. 0.]\n",
            " [0. 0. 0. 0. 1. 0.]\n",
            " [0. 0. 0. 0. 0. 1.]]\n"
          ]
        }
      ]
    },
    {
      "cell_type": "code",
      "source": [
        "#matriz diagonal\n",
        "diag = np.diag([1,2,3,4,5,6])\n",
        "print(diag)"
      ],
      "metadata": {
        "colab": {
          "base_uri": "https://localhost:8080/"
        },
        "id": "GOz_kooO7Y2H",
        "outputId": "e5a78171-7ae5-4f3a-855e-700bc4d57ad7"
      },
      "execution_count": 10,
      "outputs": [
        {
          "output_type": "stream",
          "name": "stdout",
          "text": [
            "[[1 0 0 0 0 0]\n",
            " [0 2 0 0 0 0]\n",
            " [0 0 3 0 0 0]\n",
            " [0 0 0 4 0 0]\n",
            " [0 0 0 0 5 0]\n",
            " [0 0 0 0 0 6]]\n"
          ]
        }
      ]
    },
    {
      "cell_type": "code",
      "source": [
        "#matrix aleatoria\n",
        "random = np.random.random((2,3))\n",
        "print(random)"
      ],
      "metadata": {
        "colab": {
          "base_uri": "https://localhost:8080/"
        },
        "id": "MCoIt2oo8And",
        "outputId": "fc5e1eef-ff93-4688-ad41-1cd0b0062727"
      },
      "execution_count": 11,
      "outputs": [
        {
          "output_type": "stream",
          "name": "stdout",
          "text": [
            "[[0.43699398 0.583852   0.01761233]\n",
            " [0.52966298 0.03166537 0.23183872]]\n"
          ]
        }
      ]
    },
    {
      "cell_type": "markdown",
      "source": [
        "# ARRAY\n",
        "\n",
        "Arrays en NumPy son herramientas versátiles utilizadas para representar imágenes, sonidos y otros tipos de datos científicos.\n",
        "\n",
        "Arrays en NumPy son estructuras de datos multidimensionales que permiten:\n",
        "\n",
        "* Almacenar datos homogéneos (todos del mismo tipo).\n",
        "* Tener múltiples dimensiones (vectores, matrices, etc.).\n",
        "* Realizar operaciones matemáticas de manera eficiente.\n",
        "* Acceder y modificar datos fácilmente con indexación y slicing."
      ],
      "metadata": {
        "id": "kJCg94jq9Hpi"
      }
    },
    {
      "cell_type": "code",
      "source": [
        "array = np.array([[1,2,3],[4,5,6]])\n",
        "print(array.ndim) #indica la dimension de la matriz\n",
        "print(array.shape) #indica los indices\n",
        "print(array.dtype) # indica el tipo de dato del array"
      ],
      "metadata": {
        "colab": {
          "base_uri": "https://localhost:8080/"
        },
        "id": "yMyEIi5T8dWL",
        "outputId": "ecb2e3bd-3c70-42a1-e829-ec1c9ea25f7d"
      },
      "execution_count": 13,
      "outputs": [
        {
          "output_type": "stream",
          "name": "stdout",
          "text": [
            "2\n",
            "(2, 3)\n",
            "int64\n"
          ]
        }
      ]
    },
    {
      "cell_type": "code",
      "source": [
        "#suma\n",
        "tensor = np.array([[1,2],[3,2],[7,8]])\n",
        "suma = np.sum(tensor)\n",
        "print(suma)"
      ],
      "metadata": {
        "colab": {
          "base_uri": "https://localhost:8080/"
        },
        "id": "naLuFhf7IJGA",
        "outputId": "9462363d-e064-46e4-8314-68be444926ef"
      },
      "execution_count": 16,
      "outputs": [
        {
          "output_type": "stream",
          "name": "stdout",
          "text": [
            "23\n"
          ]
        }
      ]
    },
    {
      "cell_type": "code",
      "source": [
        "#media\n",
        "mean = np.mean(array)\n",
        "print(mean)"
      ],
      "metadata": {
        "colab": {
          "base_uri": "https://localhost:8080/"
        },
        "id": "gbLg3KGZIwLO",
        "outputId": "b301cbe6-3bdf-4890-af81-e5ef37b8f24d"
      },
      "execution_count": 17,
      "outputs": [
        {
          "output_type": "stream",
          "name": "stdout",
          "text": [
            "3.5\n"
          ]
        }
      ]
    },
    {
      "cell_type": "code",
      "source": [
        "#desviacion estandar\n",
        "std = np.std(tensor)\n",
        "print(std)"
      ],
      "metadata": {
        "colab": {
          "base_uri": "https://localhost:8080/"
        },
        "id": "VaQolv51I5IO",
        "outputId": "755785f4-cf89-4d1b-b9b1-1788d9f4636d"
      },
      "execution_count": 18,
      "outputs": [
        {
          "output_type": "stream",
          "name": "stdout",
          "text": [
            "2.6718699236468995\n"
          ]
        }
      ]
    },
    {
      "cell_type": "code",
      "source": [
        "A = np.array([[1, 2], [3, 4]])\n",
        "B = np.array([[5, 6], [7, 8]])\n",
        "\n",
        "suma = A + B\n",
        "print(\"Suma de matrices:\\n\", suma)"
      ],
      "metadata": {
        "colab": {
          "base_uri": "https://localhost:8080/"
        },
        "id": "LhJWyI--JNID",
        "outputId": "472128c7-a140-4040-d342-55b7e1ebadf0"
      },
      "execution_count": 19,
      "outputs": [
        {
          "output_type": "stream",
          "name": "stdout",
          "text": [
            "Suma de matrices:\n",
            " [[ 6  8]\n",
            " [10 12]]\n"
          ]
        }
      ]
    },
    {
      "cell_type": "code",
      "source": [
        "producto = np.dot(A, B)\n",
        "print(\"Producto de matrices:\\n\", producto)\n"
      ],
      "metadata": {
        "colab": {
          "base_uri": "https://localhost:8080/"
        },
        "id": "Tg4SZAR1PAmb",
        "outputId": "8ff29f88-cd93-46f8-e9ab-54c74e30421d"
      },
      "execution_count": 20,
      "outputs": [
        {
          "output_type": "stream",
          "name": "stdout",
          "text": [
            "Producto de matrices:\n",
            " [[19 22]\n",
            " [43 50]]\n"
          ]
        }
      ]
    },
    {
      "cell_type": "code",
      "source": [
        "determinante = np.linalg.det(A)\n",
        "print(\"Determinante de A:\", determinante)"
      ],
      "metadata": {
        "colab": {
          "base_uri": "https://localhost:8080/"
        },
        "id": "0levgm3pPOos",
        "outputId": "8659f70d-5dae-4b34-bcf9-fcb2d4179d8e"
      },
      "execution_count": 23,
      "outputs": [
        {
          "output_type": "stream",
          "name": "stdout",
          "text": [
            "Determinante de A: -2.0000000000000004\n"
          ]
        }
      ]
    },
    {
      "cell_type": "code",
      "source": [
        "inversa = np.linalg.inv(A)\n",
        "print(\"Inversa de A:\\n\", inversa)"
      ],
      "metadata": {
        "colab": {
          "base_uri": "https://localhost:8080/"
        },
        "id": "dorkZm-gPUd8",
        "outputId": "40a0067d-4d67-4cf6-e6a1-874378a98ea6"
      },
      "execution_count": 22,
      "outputs": [
        {
          "output_type": "stream",
          "name": "stdout",
          "text": [
            "Inversa de A:\n",
            " [[-2.   1. ]\n",
            " [ 1.5 -0.5]]\n"
          ]
        }
      ]
    },
    {
      "cell_type": "code",
      "source": [
        "valores_propios, vectores_propios = np.linalg.eig(A)\n",
        "print(\"Valores propios de A:\\n\", valores_propios)\n",
        "print(\"Vectores propios de A:\\n\", vectores_propios)"
      ],
      "metadata": {
        "colab": {
          "base_uri": "https://localhost:8080/"
        },
        "id": "FmmrznuaQJfB",
        "outputId": "5e3c74d6-eccf-412c-d4ea-4eaf47fd8bd7"
      },
      "execution_count": 24,
      "outputs": [
        {
          "output_type": "stream",
          "name": "stdout",
          "text": [
            "Valores propios de A:\n",
            " [-0.37228132  5.37228132]\n",
            "Vectores propios de A:\n",
            " [[-0.82456484 -0.41597356]\n",
            " [ 0.56576746 -0.90937671]]\n"
          ]
        }
      ]
    },
    {
      "cell_type": "code",
      "source": [
        "#Resolución de sistemas de ecuaciones lineales\n",
        "#AX=BAX = BAX=B:\n",
        "B = np.array([1, 2])\n",
        "X = np.linalg.solve(A, B)\n",
        "print(\"Solución del sistema AX = B:\\n\", X)"
      ],
      "metadata": {
        "colab": {
          "base_uri": "https://localhost:8080/"
        },
        "id": "7lEU_IByQlK-",
        "outputId": "0176d493-3340-4628-e5be-9271b2cd11a0"
      },
      "execution_count": 26,
      "outputs": [
        {
          "output_type": "stream",
          "name": "stdout",
          "text": [
            "Solución del sistema AX = B:\n",
            " [0.  0.5]\n"
          ]
        }
      ]
    },
    {
      "cell_type": "markdown",
      "source": [
        "# Indexacion y Slicing"
      ],
      "metadata": {
        "id": "SZh8dPB0XMXw"
      }
    },
    {
      "cell_type": "code",
      "source": [
        "array_1 = np.array([10,20,30,60,12])\n",
        "print(array_1[1])\n",
        "print(array_1[-1])"
      ],
      "metadata": {
        "colab": {
          "base_uri": "https://localhost:8080/"
        },
        "id": "GV1PU-mJXUok",
        "outputId": "a87d217d-e81c-4d3c-ccf6-78b275c9a4c5"
      },
      "execution_count": 27,
      "outputs": [
        {
          "output_type": "stream",
          "name": "stdout",
          "text": [
            "20\n",
            "12\n"
          ]
        }
      ]
    },
    {
      "cell_type": "code",
      "source": [
        "print(array_1[1:4])"
      ],
      "metadata": {
        "colab": {
          "base_uri": "https://localhost:8080/"
        },
        "id": "nJ91NH0IXj3M",
        "outputId": "6a61cb8d-6036-43bc-f5b8-e8e6e84ab6d9"
      },
      "execution_count": 28,
      "outputs": [
        {
          "output_type": "stream",
          "name": "stdout",
          "text": [
            "[20 30 60]\n"
          ]
        }
      ]
    },
    {
      "cell_type": "code",
      "source": [
        "print(array_1[1:7])"
      ],
      "metadata": {
        "colab": {
          "base_uri": "https://localhost:8080/"
        },
        "id": "L0mlVhadXtFx",
        "outputId": "17ecf9d9-e242-423e-be99-7aa3a28d590f"
      },
      "execution_count": 29,
      "outputs": [
        {
          "output_type": "stream",
          "name": "stdout",
          "text": [
            "[20 30 60 12]\n"
          ]
        }
      ]
    },
    {
      "cell_type": "code",
      "source": [
        "print(array_1[-1:-7])"
      ],
      "metadata": {
        "colab": {
          "base_uri": "https://localhost:8080/"
        },
        "id": "R-88-2CpXxQe",
        "outputId": "1a336122-cd7c-4b50-9311-00a2644ba3ed"
      },
      "execution_count": 30,
      "outputs": [
        {
          "output_type": "stream",
          "name": "stdout",
          "text": [
            "[]\n"
          ]
        }
      ]
    },
    {
      "cell_type": "code",
      "source": [
        "bool_index = array_1 > 25\n",
        "print(bool_index)\n",
        "print(type(bool_index))"
      ],
      "metadata": {
        "colab": {
          "base_uri": "https://localhost:8080/"
        },
        "id": "DzZVMnLKYj1y",
        "outputId": "9997f328-3753-4c36-fec0-0afc3c8a001c"
      },
      "execution_count": 32,
      "outputs": [
        {
          "output_type": "stream",
          "name": "stdout",
          "text": [
            "[False False  True  True False]\n",
            "<class 'numpy.ndarray'>\n"
          ]
        }
      ]
    },
    {
      "cell_type": "code",
      "source": [
        "index = [2,0,3]\n",
        "print(array_1[index])"
      ],
      "metadata": {
        "colab": {
          "base_uri": "https://localhost:8080/"
        },
        "id": "Ybz6Jc82Yzmv",
        "outputId": "30eb757f-d980-4a4e-8eae-641494e472d6"
      },
      "execution_count": 35,
      "outputs": [
        {
          "output_type": "stream",
          "name": "stdout",
          "text": [
            "[30 10 60]\n"
          ]
        }
      ]
    },
    {
      "cell_type": "code",
      "source": [
        "#Extraccion de un elemento\n",
        "array_2 = np.random.randint(1,10,size=(3,3))\n",
        "print(array_2)\n",
        "print(array_2[0,1])#fila 0 columna 1"
      ],
      "metadata": {
        "colab": {
          "base_uri": "https://localhost:8080/"
        },
        "id": "Y2bsGSm1aH59",
        "outputId": "a015b95c-527d-476d-cdf3-93096ef0b111"
      },
      "execution_count": 37,
      "outputs": [
        {
          "output_type": "stream",
          "name": "stdout",
          "text": [
            "[[7 5 4]\n",
            " [1 6 7]\n",
            " [2 5 4]]\n",
            "5\n"
          ]
        }
      ]
    },
    {
      "cell_type": "code",
      "source": [
        "#extraccion por tramos\n",
        "print(array_2[:1,:1])"
      ],
      "metadata": {
        "colab": {
          "base_uri": "https://localhost:8080/"
        },
        "id": "--AWT8R1apPY",
        "outputId": "fd90a75a-1167-429a-ab90-aa5aedb3112e"
      },
      "execution_count": 42,
      "outputs": [
        {
          "output_type": "stream",
          "name": "stdout",
          "text": [
            "[[7]]\n"
          ]
        }
      ]
    },
    {
      "cell_type": "markdown",
      "source": [
        "# Broadcasting"
      ],
      "metadata": {
        "id": "hZdqFnfJhp_m"
      }
    },
    {
      "cell_type": "code",
      "source": [
        "prices = np.random.randint(100,500, size=(3,3))\n",
        "discount = np.array([10,20,30])\n",
        "discount_prices = prices + discount\n",
        "print(prices)\n",
        "print(discount_prices)"
      ],
      "metadata": {
        "colab": {
          "base_uri": "https://localhost:8080/"
        },
        "id": "yN65sbJyeto1",
        "outputId": "78b615d9-8bbe-4124-dd08-abf18ad9d684"
      },
      "execution_count": 43,
      "outputs": [
        {
          "output_type": "stream",
          "name": "stdout",
          "text": [
            "[[245 287 146]\n",
            " [203 427 425]\n",
            " [409 261 394]]\n",
            "[[255 307 176]\n",
            " [213 447 455]\n",
            " [419 281 424]]\n"
          ]
        }
      ]
    },
    {
      "cell_type": "code",
      "source": [
        "array_3 = np.array([1,2,3,4,5])\n",
        "print(np.all(array_3 > 0))"
      ],
      "metadata": {
        "colab": {
          "base_uri": "https://localhost:8080/"
        },
        "id": "z-vYnVBzhlnV",
        "outputId": "6236a247-8d46-40c1-a0f4-f3a83f319fd0"
      },
      "execution_count": 44,
      "outputs": [
        {
          "output_type": "stream",
          "name": "stdout",
          "text": [
            "True\n"
          ]
        }
      ]
    },
    {
      "cell_type": "code",
      "source": [
        "array_a = np.array([1,2,3])\n",
        "array_b = np.array([4,5,6])\n",
        "concatenated_a = np.concatenate((array_a, array_a))\n",
        "concatenated_ab = np.concatenate((array_a, array_b))\n",
        "print(concatenated_a)\n",
        "print(concatenated_ab)"
      ],
      "metadata": {
        "colab": {
          "base_uri": "https://localhost:8080/"
        },
        "id": "cQwtxc7GiqO7",
        "outputId": "a4b98f3b-4a6c-46cb-f4fd-ea116a1ba65e"
      },
      "execution_count": 45,
      "outputs": [
        {
          "output_type": "stream",
          "name": "stdout",
          "text": [
            "[1 2 3 1 2 3]\n",
            "[1 2 3 4 5 6]\n"
          ]
        }
      ]
    },
    {
      "cell_type": "markdown",
      "source": [
        "# Stacking"
      ],
      "metadata": {
        "id": "cpFvKmJCjSal"
      }
    },
    {
      "cell_type": "code",
      "source": [
        "stacked_v = np.vstack((array_a, array_b))\n",
        "print(stacked_v)"
      ],
      "metadata": {
        "colab": {
          "base_uri": "https://localhost:8080/"
        },
        "id": "tsEqg0RHjSCd",
        "outputId": "38684e53-d476-4fc5-f44f-73a391e55c5d"
      },
      "execution_count": 46,
      "outputs": [
        {
          "output_type": "stream",
          "name": "stdout",
          "text": [
            "[[1 2 3]\n",
            " [4 5 6]]\n"
          ]
        }
      ]
    },
    {
      "cell_type": "code",
      "source": [
        "stacked_h = np.hstack((array_a, array_b))\n",
        "print(stacked_h)"
      ],
      "metadata": {
        "colab": {
          "base_uri": "https://localhost:8080/"
        },
        "id": "HY-1BGtHjikW",
        "outputId": "9d792ff8-6573-4869-b651-5d535f6a4246"
      },
      "execution_count": 47,
      "outputs": [
        {
          "output_type": "stream",
          "name": "stdout",
          "text": [
            "[1 2 3 4 5 6]\n"
          ]
        }
      ]
    },
    {
      "cell_type": "markdown",
      "source": [
        "# Split"
      ],
      "metadata": {
        "id": "1fSj3fLBkj3J"
      }
    },
    {
      "cell_type": "code",
      "source": [
        "array_d = np.arange(1,26)\n",
        "split_array = np.split(array_d, 5)\n",
        "print(array_d)\n",
        "print(split_array)\n"
      ],
      "metadata": {
        "colab": {
          "base_uri": "https://localhost:8080/"
        },
        "id": "RJivTvkikM4j",
        "outputId": "2e3b440e-3cce-4b90-bf99-d59a9c755cd8"
      },
      "execution_count": 52,
      "outputs": [
        {
          "output_type": "stream",
          "name": "stdout",
          "text": [
            "[ 1  2  3  4  5  6  7  8  9 10 11 12 13 14 15 16 17 18 19 20 21 22 23 24\n",
            " 25]\n",
            "[array([1, 2, 3, 4, 5]), array([ 6,  7,  8,  9, 10]), array([11, 12, 13, 14, 15]), array([16, 17, 18, 19, 20]), array([21, 22, 23, 24, 25])]\n"
          ]
        }
      ]
    },
    {
      "cell_type": "markdown",
      "source": [
        "# Elementos Unicos - Conteos"
      ],
      "metadata": {
        "id": "9Tc9akW9nEeV"
      }
    },
    {
      "cell_type": "code",
      "source": [
        "# Supongamos que tenemos la variable 'respuestas' con las opiniones de los clientes\n",
        "respuestas = np.array(['bueno', 'excelente', 'malo', 'bueno', 'excelente', 'bueno', 'malo', 'excelente'])\n",
        "\n",
        "# Utilizamos el método unique para encontrar los elementos únicos\n",
        "elementos_unicos = np.unique(respuestas)\n",
        "print(elementos_unicos)\n"
      ],
      "metadata": {
        "colab": {
          "base_uri": "https://localhost:8080/"
        },
        "id": "MsNeQ4gDnEIN",
        "outputId": "c6016d1e-951a-429b-efff-d81ba4cee6d5"
      },
      "execution_count": 53,
      "outputs": [
        {
          "output_type": "stream",
          "name": "stdout",
          "text": [
            "['bueno' 'excelente' 'malo']\n"
          ]
        }
      ]
    },
    {
      "cell_type": "code",
      "source": [
        "# Contar las frecuencias de los elementos únicos\n",
        "elementos_unicos, conteos = np.unique(respuestas, return_counts=True)\n",
        "print(elementos_unicos)\n",
        "print(conteos)"
      ],
      "metadata": {
        "colab": {
          "base_uri": "https://localhost:8080/"
        },
        "id": "VnwSSQ3QngXE",
        "outputId": "f6dd744f-38ca-493a-b059-e96825fbc0ed"
      },
      "execution_count": 54,
      "outputs": [
        {
          "output_type": "stream",
          "name": "stdout",
          "text": [
            "['bueno' 'excelente' 'malo']\n",
            "[3 3 2]\n"
          ]
        }
      ]
    },
    {
      "cell_type": "code",
      "source": [
        "x = np.arange(10)\n",
        "vista = x[1:3]\n",
        "\n",
        "print(x)\n",
        "print(vista)\n",
        "\n",
        "# Modificar la vista\n",
        "x[1:3] = [10, 11]\n",
        "print(x)\n",
        "print(vista)"
      ],
      "metadata": {
        "colab": {
          "base_uri": "https://localhost:8080/"
        },
        "id": "A2mlDWJXpYAv",
        "outputId": "d40be09d-e188-4ad4-f094-b7a8390c902f"
      },
      "execution_count": 55,
      "outputs": [
        {
          "output_type": "stream",
          "name": "stdout",
          "text": [
            "[0 1 2 3 4 5 6 7 8 9]\n",
            "[1 2]\n",
            "[ 0 10 11  3  4  5  6  7  8  9]\n",
            "[10 11]\n"
          ]
        }
      ]
    },
    {
      "cell_type": "code",
      "source": [
        "array_e = np.arange(10)\n",
        "copy_x = array_e[[1,2]]\n",
        "print(array_e)\n",
        "print(copy_x)\n",
        "array_e[1:3]=[10,11]\n",
        "print(array_e)\n",
        "print(copy_x)"
      ],
      "metadata": {
        "colab": {
          "base_uri": "https://localhost:8080/"
        },
        "id": "Lu67mCrntxh8",
        "outputId": "b41e9bc7-47d0-4b17-d275-0290ffff0182"
      },
      "execution_count": 56,
      "outputs": [
        {
          "output_type": "stream",
          "name": "stdout",
          "text": [
            "[0 1 2 3 4 5 6 7 8 9]\n",
            "[1 2]\n",
            "[ 0 10 11  3  4  5  6  7  8  9]\n",
            "[1 2]\n"
          ]
        }
      ]
    },
    {
      "cell_type": "code",
      "source": [
        "# Crear una copia de la porción del array\n",
        "copia = x[1:3].copy()\n",
        "\n",
        "# Hacer cambios en el array original\n",
        "x[1:3] = [12, 13]\n",
        "print(x)\n",
        "print(copia)"
      ],
      "metadata": {
        "colab": {
          "base_uri": "https://localhost:8080/"
        },
        "id": "XSshd7M1pbZg",
        "outputId": "624d80e7-c5a9-435b-9217-6bdaa8b0765e"
      },
      "execution_count": 57,
      "outputs": [
        {
          "output_type": "stream",
          "name": "stdout",
          "text": [
            "[ 0 12 13  3  4  5  6  7  8  9]\n",
            "[10 11]\n"
          ]
        }
      ]
    },
    {
      "cell_type": "markdown",
      "source": [
        "# Transpuesta"
      ],
      "metadata": {
        "id": "ts6j2He1wMLj"
      }
    },
    {
      "cell_type": "code",
      "source": [
        "matrix = np.array([[1,2,3],[4,5,6],[7,8,9]])\n",
        "transposed_matrix = matrix.T\n",
        "print(matrix)\n",
        "print(transposed_matrix)"
      ],
      "metadata": {
        "colab": {
          "base_uri": "https://localhost:8080/"
        },
        "id": "SSF4wZq1uyxB",
        "outputId": "2b57c1cf-34c0-4484-8821-bd46b3516709"
      },
      "execution_count": 58,
      "outputs": [
        {
          "output_type": "stream",
          "name": "stdout",
          "text": [
            "[[1 2 3]\n",
            " [4 5 6]\n",
            " [7 8 9]]\n",
            "[[1 4 7]\n",
            " [2 5 8]\n",
            " [3 6 9]]\n"
          ]
        }
      ]
    },
    {
      "cell_type": "markdown",
      "source": [
        "# Reshape\n",
        "\n",
        "Adecua el orden de los elementos dentro del array"
      ],
      "metadata": {
        "id": "DTextZuwwOgS"
      }
    },
    {
      "cell_type": "code",
      "source": [
        "array_f = np.arange(1,13)\n",
        "reshape_array = array_f.reshape(3,4)\n",
        "print(array_f)\n",
        "print(reshape_array)"
      ],
      "metadata": {
        "colab": {
          "base_uri": "https://localhost:8080/"
        },
        "id": "5NC3-GIkvvr1",
        "outputId": "fe0a80d9-3889-4c7b-f718-64e1f73472e1"
      },
      "execution_count": 60,
      "outputs": [
        {
          "output_type": "stream",
          "name": "stdout",
          "text": [
            "[ 1  2  3  4  5  6  7  8  9 10 11 12]\n",
            "[[ 1  2  3  4]\n",
            " [ 5  6  7  8]\n",
            " [ 9 10 11 12]]\n"
          ]
        }
      ]
    },
    {
      "cell_type": "markdown",
      "source": [
        "## Reverse"
      ],
      "metadata": {
        "id": "SK3EcSoexEIx"
      }
    },
    {
      "cell_type": "code",
      "source": [
        "reversed_array = array_f[::-1]\n",
        "print(array_f)\n",
        "print(reversed_array)"
      ],
      "metadata": {
        "colab": {
          "base_uri": "https://localhost:8080/"
        },
        "id": "__ceh5ikwpI4",
        "outputId": "848cc4ae-b7f3-4628-dd65-7884a2632389"
      },
      "execution_count": 61,
      "outputs": [
        {
          "output_type": "stream",
          "name": "stdout",
          "text": [
            "[ 1  2  3  4  5  6  7  8  9 10 11 12]\n",
            "[12 11 10  9  8  7  6  5  4  3  2  1]\n"
          ]
        }
      ]
    },
    {
      "cell_type": "markdown",
      "source": [
        "## Flattening\n",
        "\n",
        "permite convertir una matriz de multiples dimensiones en una matriz de una dimension\n",
        "\n",
        "permite aplanar la infromacion para que el modelo se pueda entrenar"
      ],
      "metadata": {
        "id": "4A0jOn_tyaXk"
      }
    },
    {
      "cell_type": "code",
      "source": [
        "matrix = np.array([[1, 2, 3], [4, 5, 6], [7, 8, 9]])\n",
        "flattened_array = matrix.flatten()\n",
        "print(matrix)\n",
        "\n",
        "print(flattened_array)"
      ],
      "metadata": {
        "colab": {
          "base_uri": "https://localhost:8080/"
        },
        "id": "7j_3BxMFxdUf",
        "outputId": "47cc2811-ec96-4d6c-92d3-2345faeb2bac"
      },
      "execution_count": 62,
      "outputs": [
        {
          "output_type": "stream",
          "name": "stdout",
          "text": [
            "[[1 2 3]\n",
            " [4 5 6]\n",
            " [7 8 9]]\n",
            "[1 2 3 4 5 6 7 8 9]\n"
          ]
        }
      ]
    },
    {
      "cell_type": "code",
      "source": [
        "A = np.array([[1, 2], [3, 4]])\n",
        "B = np.array([[5, 6], [7, 8]])"
      ],
      "metadata": {
        "id": "eVOMis0Qy9Hu"
      },
      "execution_count": 63,
      "outputs": []
    },
    {
      "cell_type": "code",
      "source": [
        "# Suma de matrices\n",
        "sum = A + B\n",
        "print(sum)\n",
        "\n",
        "# Resta de matrices\n",
        "resta = A - B\n",
        "print(resta)"
      ],
      "metadata": {
        "colab": {
          "base_uri": "https://localhost:8080/"
        },
        "id": "-LxW0hvP0ZHf",
        "outputId": "39aca080-2cde-41ef-cfa2-3bb95ae4121e"
      },
      "execution_count": 64,
      "outputs": [
        {
          "output_type": "stream",
          "name": "stdout",
          "text": [
            "[[ 6  8]\n",
            " [10 12]]\n",
            "[[-4 -4]\n",
            " [-4 -4]]\n"
          ]
        }
      ]
    },
    {
      "cell_type": "code",
      "source": [
        "# Producto matricial\n",
        "producto = np.dot(A, B)\n",
        "print(producto)"
      ],
      "metadata": {
        "colab": {
          "base_uri": "https://localhost:8080/"
        },
        "id": "D3BZNlPh0d1k",
        "outputId": "c17ac6d7-7ae6-485d-b341-4082bddcfe22"
      },
      "execution_count": 65,
      "outputs": [
        {
          "output_type": "stream",
          "name": "stdout",
          "text": [
            "[[19 22]\n",
            " [43 50]]\n"
          ]
        }
      ]
    },
    {
      "cell_type": "code",
      "source": [
        "# Determinante\n",
        "determinante = np.linalg.det(A)\n",
        "print(determinante)"
      ],
      "metadata": {
        "colab": {
          "base_uri": "https://localhost:8080/"
        },
        "id": "Y3xR59cZ0iV-",
        "outputId": "4b9ff02c-2b89-4324-aed2-10335aa31578"
      },
      "execution_count": 66,
      "outputs": [
        {
          "output_type": "stream",
          "name": "stdout",
          "text": [
            "-2.0000000000000004\n"
          ]
        }
      ]
    },
    {
      "cell_type": "code",
      "source": [
        "# Inversa\n",
        "inversa = np.linalg.inv(A)\n",
        "print(inversa)"
      ],
      "metadata": {
        "colab": {
          "base_uri": "https://localhost:8080/"
        },
        "id": "fb0lYe9Z0kJB",
        "outputId": "89c7d1ad-e3e4-4ef6-b5a7-01401253ce7e"
      },
      "execution_count": 67,
      "outputs": [
        {
          "output_type": "stream",
          "name": "stdout",
          "text": [
            "[[-2.   1. ]\n",
            " [ 1.5 -0.5]]\n"
          ]
        }
      ]
    },
    {
      "cell_type": "code",
      "source": [
        "# Resolver sistema de ecuaciones lineales\n",
        "B = np.array([9, 11])\n",
        "X = np.linalg.solve(A, B)\n",
        "print(X)"
      ],
      "metadata": {
        "colab": {
          "base_uri": "https://localhost:8080/"
        },
        "id": "rk4W-GxL0mpi",
        "outputId": "bc527241-7c36-4bdb-cd0d-6014fbce3071"
      },
      "execution_count": 68,
      "outputs": [
        {
          "output_type": "stream",
          "name": "stdout",
          "text": [
            "[-7.  8.]\n"
          ]
        }
      ]
    },
    {
      "cell_type": "code",
      "source": [
        "datos = np.array([23, 76, 35, 67, 89, 45, 68, 79, 35])\n",
        "\n",
        "media = np.mean(datos)\n",
        "mediana = np.median(datos)\n",
        "varianza = np.var(datos)\n",
        "desviacion = np.std(datos)\n",
        "\n",
        "print(\"Media:\", media)\n",
        "print(\"Mediana:\", mediana)\n",
        "print(\"Varianza:\", varianza)\n",
        "print(\"Desviación estándar:\", desviacion)"
      ],
      "metadata": {
        "colab": {
          "base_uri": "https://localhost:8080/"
        },
        "id": "0R1_Nutl15JJ",
        "outputId": "d5e03129-c87e-45e7-8023-4bcc7fdbb62d"
      },
      "execution_count": 69,
      "outputs": [
        {
          "output_type": "stream",
          "name": "stdout",
          "text": [
            "Media: 57.44444444444444\n",
            "Mediana: 67.0\n",
            "Varianza: 484.02469135802465\n",
            "Desviación estándar: 22.000561160071\n"
          ]
        }
      ]
    },
    {
      "cell_type": "code",
      "source": [
        "#Instrucción: Genera un array de 1000 números aleatorios que sigan una distribución normal con media 0 y desviación estándar 1. Calcula la media y desviación estándar del array generado.\n",
        "\n",
        "datos_simulados = np.random.normal(0, 1, 1000)\n",
        "media_simulada = np.mean(datos_simulados)\n",
        "desviacion_simulada = np.std(datos_simulados)\n",
        "\n",
        "print(\"Media de los datos simulados:\", media_simulada)\n",
        "print(\"Desviación estándar de los datos simulados:\", desviacion_simulada)"
      ],
      "metadata": {
        "colab": {
          "base_uri": "https://localhost:8080/"
        },
        "id": "q1fVWQX72Gu9",
        "outputId": "0117e561-96a5-430e-fd2e-9f5274ab7a6d"
      },
      "execution_count": 70,
      "outputs": [
        {
          "output_type": "stream",
          "name": "stdout",
          "text": [
            "Media de los datos simulados: -0.06601688427335967\n",
            "Desviación estándar de los datos simulados: 0.9889284895446762\n"
          ]
        }
      ]
    }
  ]
}